{
 "cells": [
  {
   "cell_type": "markdown",
   "metadata": {},
   "source": [
    "### Generatori ai distributilor de probabilitate din Numpy. Histograme"
   ]
  },
  {
   "cell_type": "markdown",
   "metadata": {},
   "source": [
    "Biblioteca `numpy.random` contine functii ce implementeaza algoritmi de simulare a diverse distributii de probabilitate\n",
    "discrete sau continue.\n",
    "\n",
    "Numerele pseudo-aleatoare uniform distribuite pe $[0,1)$ sunt generate de functia\n",
    "`numpy.random.random()`, care se bazeaza pe generatorul Mersenne-Twister.\n",
    "Definitia functiei este:\n",
    "\n",
    "`numpy.random.random(size=None)`\n",
    "\n",
    "unde `size` este cuvantul cheie ce indica daca se returneaza un singur numar $u\\in[0,1)$ sau un array, ale carui dimensiuni se indica printr-un tuple.\n",
    "\n",
    "Seed-ul generatorului se poate seta printr-un numar intreg (vezi si codul `C` al generatorului Mersenne-Twister) astfel:\n",
    "`numpy.random.seed(numar)`."
   ]
  },
  {
   "cell_type": "code",
   "execution_count": 17,
   "metadata": {},
   "outputs": [],
   "source": [
    "%matplotlib inline\n",
    "import numpy as np\n",
    "import matplotlib.pyplot as plt"
   ]
  },
  {
   "cell_type": "code",
   "execution_count": 18,
   "metadata": {},
   "outputs": [
    {
     "name": "stdout",
     "output_type": "stream",
     "text": [
      "0.389913864451\n"
     ]
    }
   ],
   "source": [
    "u=np.random.random()\n",
    "print u"
   ]
  },
  {
   "cell_type": "code",
   "execution_count": 19,
   "metadata": {},
   "outputs": [
    {
     "name": "stdout",
     "output_type": "stream",
     "text": [
      "[ 0.7197952   0.00909052  0.22430714  0.68550707  0.56031171]\n"
     ]
    }
   ],
   "source": [
    "v=np.random.random(5)\n",
    "print v"
   ]
  },
  {
   "cell_type": "code",
   "execution_count": 20,
   "metadata": {},
   "outputs": [
    {
     "name": "stdout",
     "output_type": "stream",
     "text": [
      "[[ 0.22980472  0.18916712  0.88043825]\n",
      " [ 0.13131647  0.12812562  0.64125757]]\n"
     ]
    }
   ],
   "source": [
    "A=np.random.random((2,3))\n",
    "print A"
   ]
  },
  {
   "cell_type": "markdown",
   "metadata": {},
   "source": [
    "Seed-ul  se seteaza in perioada de debugging a codului, pentru ca avandu-l setat in orice rulare se genereaza acelasi sir de numere."
   ]
  },
  {
   "cell_type": "markdown",
   "metadata": {},
   "source": [
    "Daca nu este setat explicit, atunci `Numpy` alege un seed aleator bazat pe momentul de timp al lansarii in executie a codului.\n"
   ]
  },
  {
   "cell_type": "markdown",
   "metadata": {},
   "source": [
    "Pentru a ilustra ca  o functie genereaza valori de observatie asupra unei variabile aleatoare de distributie prescrisa, se asociaza sirului de date histograma si se traseaza peste histograma graficul densitatii\n",
    "distributiei respective, pentru comparatie."
   ]
  },
  {
   "cell_type": "markdown",
   "metadata": {},
   "source": [
    "Sa generam de exemplu 2000 de valori de observatie asupra unei v.a. $U\\sim Unif[0,1)$ si apoi sa desenem\n",
    "                                                                            histograma datelor cu un numar prescris de bare.\n",
    "                                                                            "
   ]
  },
  {
   "cell_type": "markdown",
   "metadata": {},
   "source": [
    "Functia care genereaza histograma este:\n",
    "    \n",
    "`matplotlib.pyplot.hist()` pe care o apelam simplu, `plt.hist`.\n",
    "\n",
    "Argumentele si cuvintele cheie uzuale ale functiei sunt:\n",
    "- `x` este array-ul ce contine datele\n",
    "- `bins=10`  numarul de bare; implicit 10\n",
    "- `range=None`, `range` reprezinta limitele valorilor din x intre care generam histograma. Daca \n",
    "nu este setat, atunci se genereaza histograma datelor cuprinse in intervalul `[xmin, xmax]`.\n",
    "- `normed=False` (implicit) sau `True`; \n",
    "\n",
    "Daca  `normed=True`, atunci bara corespunzatoare fiecarui interval\n",
    "de divizare a datelor are aria egala cu (vezi algoritmul prezentat in Cursul 10):\n",
    "\n",
    "$\\displaystyle\\frac{nr.\\: valori\\: din\\: interval}{nr\\: total\\: de\\: valori}$\n",
    "\n",
    "Daca `normed=False`, atunci bara are aria egala cu lungimea bazei ori numarul de valori ce apartin intervalului corespunzator barei.\n",
    "\n",
    "- `color=None`; acest cuvant cheie seteaza culoarea barelor in histograma.\n",
    "\n",
    "\n"
   ]
  },
  {
   "cell_type": "code",
   "execution_count": 21,
   "metadata": {},
   "outputs": [
    {
     "data": {
      "text/plain": [
       "[<matplotlib.lines.Line2D at 0xa40a9b0>]"
      ]
     },
     "execution_count": 21,
     "metadata": {},
     "output_type": "execute_result"
    },
    {
     "data": {
      "image/png": "[encoded data removed]",
      "text/plain": [
       "<matplotlib.figure.Figure at 0xa45eb00>"
      ]
     },
     "metadata": {},
     "output_type": "display_data"
    }
   ],
   "source": [
    "x=np.random.random(2000)\n",
    "histo=plt.hist(x, bins=15, normed=True, color='g')\n",
    "plt.plot([0,1], [1,1], 'r')# graficul densitatii uniforme pe [0,1)"
   ]
  },
  {
   "cell_type": "markdown",
   "metadata": {},
   "source": [
    "Functia `np.random.exponential(theta, size=None)` returneaza valori de observatie asupra unei variabile aleatoare exponential distribuita, de parametru $\\theta=theta$.\n",
    "\n"
   ]
  },
  {
   "cell_type": "markdown",
   "metadata": {},
   "source": [
    "Functia care evalueaza  densitatea distributiei $Exp(\\theta)$:"
   ]
  },
  {
   "cell_type": "code",
   "execution_count": 22,
   "metadata": {},
   "outputs": [],
   "source": [
    "def fexpo(theta, x):\n",
    "    return  np.exp(-x/theta)/theta"
   ]
  },
  {
   "cell_type": "markdown",
   "metadata": {},
   "source": [
    "Generam N valori de observatie asupra distributiei $Exp(\\theta)$, afisam histograma valorilor\n",
    "generate si desenam comparativ graficul densitatii:"
   ]
  },
  {
   "cell_type": "code",
   "execution_count": 23,
   "metadata": {},
   "outputs": [
    {
     "data": {
      "text/plain": [
       "[<matplotlib.lines.Line2D at 0xb0e0400>]"
      ]
     },
     "execution_count": 23,
     "metadata": {},
     "output_type": "execute_result"
    },
    {
     "data": {
      "image/png": "[encoded data removed]",
      "text/plain": [
       "<matplotlib.figure.Figure at 0xb0e03c8>"
      ]
     },
     "metadata": {},
     "output_type": "display_data"
    }
   ],
   "source": [
    "theta=2.7\n",
    "N=2000# nr de valori generate\n",
    "x=np.random.exponential(theta, N)\n",
    "histo=plt.hist(x, bins=20, normed=True, color='g', alpha=0.6)\n",
    "xmin=np.min(x)\n",
    "xmax=np.max(x)\n",
    "M=100\n",
    "X=np.linspace(xmin, xmax, M)\n",
    "Y=fexpo(theta, X)\n",
    "plt.plot(X,Y, 'r')#traseaza graficul densitatii exponentiale"
   ]
  },
  {
   "cell_type": "markdown",
   "metadata": {},
   "source": [
    "Functia `np.random.exponential` implementeaza algoritmul de simulare a distributiei Exp prin metoda inversarii\n",
    "(Cursul 12)."
   ]
  },
  {
   "cell_type": "markdown",
   "metadata": {},
   "source": [
    "La proiectul in `C/C++`, valorile generate vor fi salvate intr-un fisier text, care apoi este citit\n",
    "in Python pentru a afisa histograma sau alte obiecte grafice.\n",
    "\n",
    "Dam un exemplu de citire a unui fisier text, salvat in directorul curent si apoi generam histograma datelor\n",
    "citite.\n",
    "\n"
   ]
  },
  {
   "cell_type": "code",
   "execution_count": 24,
   "metadata": {},
   "outputs": [
    {
     "data": {
      "image/png": "[encoded data removed]",
      "text/plain": [
       "<matplotlib.figure.Figure at 0xb0e4828>"
      ]
     },
     "metadata": {},
     "output_type": "display_data"
    }
   ],
   "source": [
    "val = np.loadtxt(\"Vizite.txt\")\n",
    "histog=plt.hist(val,bins=100, normed=True, color='r')"
   ]
  },
  {
   "cell_type": "markdown",
   "metadata": {},
   "source": [
    "Fisierul `Vizite.txt` contine numarul de vizite ale site-urilor monitorizate de [sati](http://www.brat.ro/sati/rezultate/type/site-ro/period_type/month/period_filter/2014-3/category/all/editor/all) in luna martie."
   ]
  },
  {
   "cell_type": "markdown",
   "metadata": {},
   "source": [
    "Histograma ilustreaza ca o proportie mare din numarul de site-uri monitorizate sunt vizitate de un  numar redus de ori si doar cateva sunt vizitate foarte mult."
   ]
  },
  {
   "cell_type": "code",
   "execution_count": 1,
   "metadata": {},
   "outputs": [
    {
     "data": {
      "text/html": [
       "<style>\n",
       "    /*body {\n",
       "        background-color: #F5F5F5;\n",
       "    }*/\n",
       "    div.cell{\n",
       "        width: 900px;\n",
       "        margin-left: 13% !important;\n",
       "        margin-right: auto;\n",
       "    }\n",
       "    #notebook li { /* More space between bullet points */\n",
       "    margin-top:0.8em;\n",
       "    }\n",
       "\n",
       "    h1 {\n",
       "        font-family: 'Alegreya Sans', sans-serif;\n",
       "    }\n",
       "    .text_cell_render h1 {\n",
       "        font-weight: 200;\n",
       "        font-size: 40pt;\n",
       "        line-height: 100%;\n",
       "        color: rgb(8, 66, 133);\n",
       "        margin-bottom: 0em;\n",
       "        margin-top: 0em;\n",
       "        display: block;\n",
       "    }\n",
       "    h2 {\n",
       "        font-family: 'Fenix', serif;\n",
       "        text-indent:1em;\n",
       "        text-align:center;\n",
       "    }\n",
       "    .text_cell_render h2 {\n",
       "        font-weight: 200;\n",
       "        font-size: 28pt;\n",
       "        line-height: 100%;\n",
       "        color: rgb(8, 66, 133);\n",
       "        margin-bottom: 1.5em;\n",
       "        margin-top: 0.5em;\n",
       "        display: block;\n",
       "    }\n",
       "    h3 {\n",
       "        font-family: 'Fenix', serif;\n",
       "        %margin-top:12px;\n",
       "        %margin-bottom: 3px;\n",
       "    }\n",
       "    .text_cell_render h3 {\n",
       "        font-weight: 300;\n",
       "        font-size: 18pt;\n",
       "        line-height: 100%;\n",
       "        color: rgb(8, 66, 133);\n",
       "        margin-bottom: 0.5em;\n",
       "        margin-top: 2em;\n",
       "        display: block;\n",
       "    }\n",
       "    h4 {\n",
       "        font-family: 'Fenix', serif;\n",
       "    }\n",
       "    .text_cell_render h4 {\n",
       "        font-weight: 300;\n",
       "        font-size: 16pt;\n",
       "        color: rgb(8, 66, 133);\n",
       "        margin-bottom: 0.5em;\n",
       "        margin-top: 0.5em;\n",
       "        display: block;\n",
       "    }\n",
       "    h5 {\n",
       "        font-family: 'Alegreya Sans', sans-serif;\n",
       "    }\n",
       "    .text_cell_render h5 {\n",
       "        font-weight: 300;\n",
       "        font-style: normal;\n",
       "        font-size: 16pt;\n",
       "        margin-bottom: 0em;\n",
       "        margin-top: 1.5em;\n",
       "        display: block;\n",
       "        }\n",
       "    div.text_cell_render{\n",
       "        font-family: 'Alegreya Sans',Computer Modern, \"Helvetica Neue\", Arial, Helvetica, Geneva, sans-serif;\n",
       "        line-height: 145%;\n",
       "        font-size: 130%;\n",
       "        width:900px;\n",
       "        margin-left:auto;\n",
       "        margin-right:auto;\n",
       "        %text-align:justify;\n",
       "        %text-justify:inter-word;\n",
       "    }\n",
       "    \n",
       "    \n",
       "    code{\n",
       "      font-size: 78%;\n",
       "    }\n",
       "    .rendered_html code{\n",
       "        background-color: transparent;\n",
       "        white-space: inherit;   \n",
       "    }\n",
       "    .prompt{\n",
       "        display: None;\n",
       "     }\n",
       "    .rendered_html code{\n",
       "    background-color: transparent;\n",
       "    }\n",
       "\n",
       "    blockquote{\n",
       "      display:block;\n",
       "      background: #f3f3f3;\n",
       "      font-family: \"Open sans\",verdana,arial,sans-serif;\n",
       "      width:610px;\n",
       "      padding: 15px 15px 15px 15px;\n",
       "      text-align:justify;\n",
       "      text-justify:inter-word;\n",
       "      }\n",
       "      blockquote p {\n",
       "        margin-bottom: 0;\n",
       "        line-height: 125%;\n",
       "        font-size: 100%;\n",
       "      }\n",
       "   /* element.style {\n",
       "    } */\n",
       "</style>\n",
       "<script>\n",
       "    MathJax.Hub.Config({\n",
       "                        TeX: {\n",
       "                           extensions: [\"AMSmath.js\"]\n",
       "                           },\n",
       "                tex2jax: {\n",
       "                    inlineMath: [ [\"$\",\"$\"], [\"\\\\(\",\"\\\\)\"] ],\n",
       "                    displayMath: [ [\"$$\",\"$$\"], [\"\\\\[\",\"\\\\]\"] ]\n",
       "                },\n",
       "                displayAlign: \"center\", // Change this to \"center\" to center equations.\n",
       "                \"HTML-CSS\": {\n",
       "                    styles: {\".MathJax_Display\": {\"margin\": 4}}\n",
       "                }\n",
       "        });\n",
       "</script>\n"
      ],
      "text/plain": [
       "<IPython.core.display.HTML object>"
      ]
     },
     "execution_count": 1,
     "metadata": {},
     "output_type": "execute_result"
    }
   ],
   "source": [
    "from IPython.core.display import HTML\n",
    "def  css_styling():\n",
    "    styles = open(\"./custom.css\", \"r\").read()\n",
    "    return HTML(styles)\n",
    "css_styling()"
   ]
  }
 ],
 "metadata": {
  "kernelspec": {
   "display_name": "Python [default]",
   "language": "python",
   "name": "python2"
  },
  "language_info": {
   "codemirror_mode": {
    "name": "ipython",
    "version": 2
   },
   "file_extension": ".py",
   "mimetype": "text/x-python",
   "name": "python",
   "nbconvert_exporter": "python",
   "pygments_lexer": "ipython2",
   "version": "2.7.13"
  }
 },
 "nbformat": 4,
 "nbformat_minor": 1
}
